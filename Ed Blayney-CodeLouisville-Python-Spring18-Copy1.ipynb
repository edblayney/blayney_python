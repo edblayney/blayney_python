{
 "cells": [
  {
   "cell_type": "markdown",
   "metadata": {},
   "source": [
    "# Fire Loss Analysis By Month\n",
    "\n",
    "## Hypothesis\n",
    "\n",
    "Due to colder temperatures and people spending more time in houses (especially vacant properties), there will be more fires with property loss and more monetary damages done during colder months than during warmer months. \n",
    "\n",
    "## Data Sources\n",
    "\n",
    "### Fire Property Damage Data\n",
    "\n",
    "Source: https://data.louisvilleky.gov/dataset/fire-property-damage\n",
    "\n",
    "### Weather Data\n",
    "\n",
    "Source: http://www.intellicast.com/Local/History.aspx?location=USKY1096\n"
   ]
  },
  {
   "cell_type": "code",
   "execution_count": 1,
   "metadata": {
    "collapsed": true
   },
   "outputs": [],
   "source": [
    "import datetime\n",
    "import sqlite3\n",
    "import pandas as pd\n",
    "import matplotlib.pyplot as plt"
   ]
  },
  {
   "cell_type": "code",
   "execution_count": 2,
   "metadata": {
    "collapsed": true
   },
   "outputs": [],
   "source": [
    "# *Requirement* SQL database\n",
    "# Create the database\n",
    "con = sqlite3.connect('/Users/edblayney/desktop/GitHub/blayney_python/FireLoss.db3')\n",
    "\n",
    "# *Requirement* Python script to fetch data and load it into database\n",
    "# Create table\n",
    "df = pd.read_csv('/Users/edblayney/desktop/GitHub/blayney_python/PropLoss.csv', names=['ID', 'Date', 'Total_Loss'], parse_dates=True)\n",
    "df.to_sql(\"propertyloss\", con, if_exists='replace', index=False)\n",
    "cur = con.cursor()\n",
    "con.commit()"
   ]
  },
  {
   "cell_type": "code",
   "execution_count": 3,
   "metadata": {
    "collapsed": true
   },
   "outputs": [],
   "source": [
    "# *Requirement* Script to retrieve data from database\n",
    "# Query & group data to get Total Property Loss in $ by Month of the Year\n",
    "\n",
    "results = cur.execute(\"\"\"SELECT strftime('%m', Date) AS 'month', SUM(Total_Loss/1000) as 'SumPropLoss / 1000' \n",
    "    FROM propertyloss \n",
    "    WHERE ID <> 'ID' AND Total_Loss > 0 GROUP BY month\"\"\")"
   ]
  },
  {
   "cell_type": "code",
   "execution_count": 4,
   "metadata": {
    "collapsed": true
   },
   "outputs": [],
   "source": [
    "# *Requirement* Python script to modify data to prepare for visualization\n",
    "# Add Total Property Loss data to lists to prepare for visualization\n",
    "\n",
    "months = []\n",
    "SumPropLossByMonth = []\n",
    "for row in results:\n",
    "    SumPropLossByMonth.append(row[1])\n",
    "    months.append(row[0])"
   ]
  },
  {
   "cell_type": "code",
   "execution_count": 5,
   "metadata": {},
   "outputs": [
    {
     "data": {
      "image/png": "[encoded data removed]",
      "text/plain": [
       "<matplotlib.figure.Figure at 0x117423eb8>"
      ]
     },
     "metadata": {},
     "output_type": "display_data"
    }
   ],
   "source": [
    "# *Requirement* Visualize analysis\n",
    "# Visualize Total Property Loss in $ aggregated by month of the year \n",
    "\n",
    "plt.bar(months, SumPropLossByMonth, color = 'red')\n",
    "plt.ylabel(\"Property Loss in $ / 1000\")\n",
    "plt.xlabel(\"Month\")\n",
    "plt.title(\"Total Property Loss by Month of the Year\")\n",
    "\n",
    "plt.show()\n",
    "\n",
    "plt.savefig('FireLossByMonthofYear.png')"
   ]
  },
  {
   "cell_type": "markdown",
   "metadata": {},
   "source": [
    "## Average Temperatures in Louisville by Month\n",
    "\n",
    "| Month | Avg Low | Avg High | \n",
    "|-------|---------|----------| \n",
    "| 1     | 25°     | 41°      | \n",
    "| 2     | 29°     | 47°      | \n",
    "| 3     | 37°     | 57°      | \n",
    "| 4     | 46°     | 67°      | \n",
    "| 5     | 56°     | 75°      | \n",
    "| 6     | 65°     | 83°      | \n",
    "| 7     | 70°     | 87°      | \n",
    "| 8     | 68°     | 86°      | \n",
    "| 9     | 61°     | 79°      | \n",
    "| 10    | 49°     | 68°      | \n",
    "| 11    | 39°     | 56°      | \n",
    "| 12    | 30°     | 45°      | "
   ]
  },
  {
   "cell_type": "markdown",
   "metadata": {},
   "source": [
    "## Analysis\n",
    "\n",
    "* It appears that my original hypothesis was generally correct. Based on an initial analysis of the data, the colder months (months with average lows 46 degrees Farenheit or lower) have more fire damage, with the exception of September.\n",
    "\n",
    "* If I were to continue this project, I would want to do an analysis of the causes of fires during the colder months to see if there was a root cause of the higher rates of property damage. My initial hypothesis is there are more fires starting in vacant properties due to more fires started by squatters to keep warm. I would also want to see if there was a reason that September had a spike or if that was just a statistical anamoly. "
   ]
  },
  {
   "cell_type": "code",
   "execution_count": 6,
   "metadata": {
    "collapsed": true
   },
   "outputs": [],
   "source": [
    "# Close the Connection\n",
    "con.close()"
   ]
  }
 ],
 "metadata": {
  "kernelspec": {
   "display_name": "Python 3",
   "language": "python",
   "name": "python3"
  },
  "language_info": {
   "codemirror_mode": {
    "name": "ipython",
    "version": 3
   },
   "file_extension": ".py",
   "mimetype": "text/x-python",
   "name": "python",
   "nbconvert_exporter": "python",
   "pygments_lexer": "ipython3",
   "version": "3.6.3"
  }
 },
 "nbformat": 4,
 "nbformat_minor": 2
}
